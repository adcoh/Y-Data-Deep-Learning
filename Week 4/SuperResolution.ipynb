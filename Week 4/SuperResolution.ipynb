{
 "cells": [
  {
   "cell_type": "code",
   "execution_count": null,
   "metadata": {},
   "outputs": [],
   "source": [
    "# #download dataset\n",
    "# !wget -N http://host.robots.ox.ac.uk/pascal/VOC/voc2007/VOCtrainval_06-Nov-2007.tar\n",
    "# !tar -xzf VOCtrainval_06-Nov-2007.tar"
   ]
  },
  {
   "cell_type": "code",
   "execution_count": null,
   "metadata": {},
   "outputs": [],
   "source": [
    "import os\n",
    "import random\n",
    "import torch\n",
    "from torch import optim\n",
    "from torch.utils.data import DataLoader\n",
    "from torchvision import transforms\n",
    "from tqdm import tqdm\n",
    "import wandb\n",
    "# wandb.login()\n",
    "wandb.init(project=\"Y-Data-DL-Week4-Super-Resolution-Final\")\n",
    "\n",
    "from networks import network1, network2, network3, network4, network5, network6\n",
    "from utils import VOC2007Dataset, ssim, show_images"
   ]
  },
  {
   "cell_type": "code",
   "execution_count": null,
   "metadata": {},
   "outputs": [],
   "source": [
    "wandb.config.update(dict(batch_size=2, epochs=5, lr=0.01, no_cuda=True, window_size=12,\n",
    "                                 seed=42, log_interval=10))        # Initialize config"
   ]
  },
  {
   "cell_type": "code",
   "execution_count": null,
   "metadata": {},
   "outputs": [],
   "source": [
    "config = wandb.config\n",
    "use_cuda = not config.no_cuda and torch.cuda.is_available()\n",
    "device = torch.device(\"cuda\" if use_cuda else \"cpu\")\n",
    "kwargs = {'num_workers': 2, 'pin_memory': True} if use_cuda else {}\n",
    "\n",
    "random.seed(config.seed)       # python random seed\n",
    "torch.manual_seed(config.seed) # pytorch random seed\n",
    "np.random.seed(config.seed) # numpy random seed"
   ]
  },
  {
   "cell_type": "code",
   "execution_count": null,
   "metadata": {},
   "outputs": [],
   "source": [
    "transform = transforms.Compose([transforms.ToTensor()])\n",
    "trainset = VOC2007Dataset(image_set='trainval', transform=transform, sample_slice=[0,100]) # training dataset\n",
    "trainloader = DataLoader(trainset, batch_size=config.batch_size, shuffle=False, **kwargs)\n",
    "testset = VOC2007Dataset(image_set='trainval', transform=transform, sample_slice=[-11, -1]) # validation dataset\n",
    "testloader = DataLoader(testset, batch_size=config.batch_size, shuffle=False, **kwargs)"
   ]
  },
  {
   "cell_type": "code",
   "execution_count": null,
   "metadata": {},
   "outputs": [],
   "source": [
    "show_images(trainset[50])"
   ]
  },
  {
   "cell_type": "code",
   "execution_count": null,
   "metadata": {},
   "outputs": [],
   "source": [
    "def train_model_y_mid(config, net, train_data, optimizer, epoch):\n",
    "    net.train()\n",
    "    train_loss = 0\n",
    "    for i, batch in tqdm(enumerate(train_data), total=len(train_data)):\n",
    "        X = batch['X'].to(device)\n",
    "        y_mid = batch['y_mid'].to(device)\n",
    "        optimizer.zero_grad()\n",
    "        output = net(X)\n",
    "        loss = 1-ssim(output, y_mid, window_size=config.window_size)\n",
    "        loss.backward()\n",
    "        optimizer.step()\n",
    "        train_loss += loss.item()\n",
    "    wandb.log({'Train Loss - Model 1': train_loss/len(train_data), 'Epoch': epoch}, commit=False)\n",
    "\n",
    "def test_model_y_mid(config, net, test_data, epoch):\n",
    "    net.eval()\n",
    "    test_loss = 0\n",
    "    example_images = []\n",
    "    avg_psnr = 0\n",
    "    n = len(test_data)\n",
    "    with torch.no_grad():\n",
    "        for j, batch in tqdm(enumerate(test_data), total=len(test_data)):\n",
    "            X = batch['X'].to(device)\n",
    "            y_mid = batch['y_mid'].to(device)\n",
    "            output = net(X)\n",
    "            loss = 1-ssim(output, y_mid, window_size=config.window_size)\n",
    "            test_loss += loss\n",
    "            avg_psnr += 10 * np.log10(1/nn.MSELoss(mid_output, y_mid).item())\n",
    "            example_images.append(wandb.Image(transforms.ToPILImage(mode='RGB')(output[0]), \n",
    "                                              caption=\"Output Reconstruction\"))\n",
    "            example_images.append(wandb.Image(transforms.ToPILImage(mode='RGB')(y_mid[0]), \n",
    "                                              caption=\"Target\"))\n",
    "    wandb.log({'Test Loss - Model 1': test_loss/n, 'Avg PSN Ratio - Model 1': avg_psnr/n,\n",
    "                \"Examples\": example_images, 'Epoch': epoch, \n",
    "              })"
   ]
  },
  {
   "cell_type": "code",
   "execution_count": null,
   "metadata": {},
   "outputs": [],
   "source": [
    "def run_training(network):\n",
    "    model = network().to(device)\n",
    "    wandb.watch(model, log=\"all\")\n",
    "    optimizer = optim.Adam(model.parameters(), lr=config.lr)\n",
    "    for epoch in range(1, config.epochs + 1):\n",
    "        train_model_y_mid(config, model, trainloader, optimizer, epoch)\n",
    "        test_model_y_mid(config, model, testloader, epoch)\n",
    "    return model"
   ]
  },
  {
   "cell_type": "code",
   "execution_count": null,
   "metadata": {},
   "outputs": [],
   "source": [
    "model1 = run_training(network1)"
   ]
  },
  {
   "cell_type": "code",
   "execution_count": null,
   "metadata": {},
   "outputs": [],
   "source": [
    "dataiter = iter(trainloader)\n",
    "test = next(dataiter)\n",
    "y_mid = model1(test['X'])\n",
    "img_dct = dict(y_mid=y_mid[0], X=test['X'][0])\n",
    "show_images(img_dct)"
   ]
  },
  {
   "cell_type": "code",
   "execution_count": null,
   "metadata": {},
   "outputs": [],
   "source": [
    "def train_model_y_mid_large(config, net, train_data, optimizer, epoch, model_number=2):\n",
    "    net.train()\n",
    "    train_loss = 0\n",
    "    for i, batch in tqdm(enumerate(train_data), total=len(train_data)):\n",
    "        X = batch['X'].to(device)\n",
    "        y_mid = batch['y_mid'].to(device)\n",
    "        y_large = batch['y_large'].to(device)\n",
    "        optimizer.zero_grad()\n",
    "        mid_output, large_output = net(X)\n",
    "        loss = ((1-ssim(mid_output, y_mid, window_size=config.window_size)) + \n",
    "                (1-ssim(large_output, y_large,window_size=config.window_size))\n",
    "        loss.backward()\n",
    "        optimizer.step()\n",
    "        train_loss += loss.item()\n",
    "    wandb.log({f'Train Loss - Model {model_number}': train_loss/len(train_data), 'Epoch': epoch}, commit=False)\n",
    "\n",
    "def test_model_y_mid_large(config, net, test_data, epoch, model_number=2):\n",
    "    net.eval()\n",
    "    test_loss = 0\n",
    "    example_images = []\n",
    "    avg_psnr = 0\n",
    "    n = len(test_data)\n",
    "    loss_fn = ssim\n",
    "    with torch.no_grad():\n",
    "        for j, batch in tqdm(enumerate(test_data), total=len(test_data)):\n",
    "            X = batch['X'].to(device)\n",
    "            y_mid = batch['y_mid'].to(device)\n",
    "            y_large = batch['y_large'].to(device)\n",
    "            mid_output, large_output = net(X)\n",
    "            loss = ((1-ssim(mid_output, y_mid, window_size=config.window_size)) + \n",
    "                    (1-ssim(large_output, y_large, window_size=config.window_size))\n",
    "            test_loss += loss\n",
    "            avg_psnr += 10 * np.log10(1/nn.MSELoss(mid_output, y_mid).item())\n",
    "            example_images.append(wandb.Image(transforms.ToPILImage(mode='RGB')(mid_output[0]), \n",
    "                                                caption=\"Mid Output Reconstruction\"))\n",
    "            example_images.append(wandb.Image(transforms.ToPILImage(mode='RGB')(large_output[0]), \n",
    "                                                caption=\"Large Output Reconstruction\"))\n",
    "            example_images.append(wandb.Image(transforms.ToPILImage(mode='RGB')(y_mid[0]), \n",
    "                                                caption=\"Target\"))\n",
    "    wandb.log({f'Test Loss - Model {model_number}': test_loss/len(test_data), f'Avg PSN Ratio - Model {model_number}': avg_psnr/n,\n",
    "                \"Examples\": example_images, 'Epoch': epoch})"
   ]
  },
  {
   "cell_type": "code",
   "execution_count": null,
   "metadata": {},
   "outputs": [],
   "source": [
    "def run_training2(network, model_number):\n",
    "    model = network().to(device)\n",
    "    wandb.watch(model, log=\"all\")\n",
    "    optimizer = optim.Adam(model.parameters(), lr=config.lr)\n",
    "    loss_fn = nn.MSELoss()\n",
    "    for epoch in range(1, config.epochs + 1):\n",
    "        train_model_y_mid_large(config, model, trainloader, optimizer, epoch, loss_fn=loss_fn, model_number=model_number)\n",
    "        test_model_y_mid_large(config, model, testloader, epoch, loss_fn=loss_fn, model_number=model_number)\n",
    "    return model"
   ]
  },
  {
   "cell_type": "code",
   "execution_count": null,
   "metadata": {
    "tags": [
     "outputPrepend",
     "outputPrepend",
     "outputPrepend",
     "outputPrepend",
     "outputPrepend",
     "outputPrepend",
     "outputPrepend",
     "outputPrepend",
     "outputPrepend",
     "outputPrepend",
     "outputPrepend",
     "outputPrepend",
     "outputPrepend",
     "outputPrepend",
     "outputPrepend",
     "outputPrepend",
     "outputPrepend",
     "outputPrepend",
     "outputPrepend",
     "outputPrepend",
     "outputPrepend",
     "outputPrepend",
     "outputPrepend",
     "outputPrepend",
     "outputPrepend",
     "outputPrepend",
     "outputPrepend",
     "outputPrepend",
     "outputPrepend",
     "outputPrepend",
     "outputPrepend"
    ]
   },
   "outputs": [],
   "source": [
    "model2 = run_training2(convnet2, model_number=2)"
   ]
  },
  {
   "cell_type": "code",
   "execution_count": null,
   "metadata": {},
   "outputs": [],
   "source": [
    "def show_test_images(model, test):\n",
    "    y_mid, y_large = model(test['X'])\n",
    "    img_dct = dict(y_large=y_large[0], y_mid=y_mid[0], X=test['X'][0])\n",
    "    show_images(img_dct)"
   ]
  },
  {
   "cell_type": "code",
   "execution_count": null,
   "metadata": {},
   "outputs": [],
   "source": [
    "show_test_images(model2, test=test)"
   ]
  },
  {
   "cell_type": "code",
   "execution_count": null,
   "metadata": {},
   "outputs": [],
   "source": [
    "model3 = run_training2(resnet, model_number=3)"
   ]
  },
  {
   "cell_type": "code",
   "execution_count": null,
   "metadata": {},
   "outputs": [],
   "source": [
    "show_test_images(model3, test=test)"
   ]
  },
  {
   "cell_type": "code",
   "execution_count": null,
   "metadata": {},
   "outputs": [],
   "source": [
    "model4 = run_training2(dilation_net, model_number=4)"
   ]
  },
  {
   "cell_type": "code",
   "execution_count": null,
   "metadata": {},
   "outputs": [],
   "source": [
    "show_test_images(model4, test=test)"
   ]
  },
  {
   "cell_type": "code",
   "execution_count": null,
   "metadata": {},
   "outputs": [],
   "source": [
    "model5 = run_training2(pretrained_net, model_number=5)"
   ]
  },
  {
   "cell_type": "code",
   "execution_count": null,
   "metadata": {},
   "outputs": [],
   "source": [
    "show_test_images(model5, test=test)"
   ]
  },
  {
   "cell_type": "code",
   "execution_count": null,
   "metadata": {},
   "outputs": [],
   "source": [
    "model6 = run_training2(pixel_shuffle_net, model_number=6)"
   ]
  },
  {
   "cell_type": "code",
   "execution_count": null,
   "metadata": {},
   "outputs": [],
   "source": [
    "show_test_images(model6, test=test)"
   ]
  }
 ],
 "metadata": {
  "kernelspec": {
   "display_name": "Python 3.7.5 64-bit ('yandex': virtualenv)",
   "language": "python",
   "name": "python37564bityandexvirtualenv9d32818e7464483c97cb7ec262d53e40"
  },
  "language_info": {
   "codemirror_mode": {
    "name": "ipython",
    "version": 3
   },
   "file_extension": ".py",
   "mimetype": "text/x-python",
   "name": "python",
   "nbconvert_exporter": "python",
   "pygments_lexer": "ipython3",
   "version": "3.7.5-final"
  }
 },
 "nbformat": 4,
 "nbformat_minor": 4
}