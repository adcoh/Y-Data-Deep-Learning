{
 "cells": [
  {
   "cell_type": "markdown",
   "metadata": {},
   "source": [
    "# Fashion-Mnist with Pytorch"
   ]
  },
  {
   "cell_type": "markdown",
   "metadata": {},
   "source": [
    "In this notebook we will learn the basics of training Neural Network models using the Pytorch library.\n",
    "\n",
    "we will start with validating our Pytourch and Cuda dev (if there are any)"
   ]
  },
  {
   "cell_type": "code",
   "execution_count": 1,
   "metadata": {},
   "outputs": [
    {
     "name": "stdout",
     "output_type": "stream",
     "text": [
      "__Python VERSION: 3.7.5 (default, Dec 20 2019, 12:16:10) \n",
      "[Clang 11.0.0 (clang-1100.0.33.16)]\n",
      "__pyTorch VERSION: 1.4.0\n",
      "__CUDA VERSION\n",
      "/bin/sh: nvcc: command not found\n",
      "__CUDNN VERSION: None\n",
      "__Number CUDA Devices: 0\n"
     ]
    }
   ],
   "source": [
    "import torch\n",
    "import sys\n",
    "print('__Python VERSION:', sys.version)\n",
    "print('__pyTorch VERSION:', torch.__version__)\n",
    "print('__CUDA VERSION')\n",
    "! nvcc --version\n",
    "print('__CUDNN VERSION:', torch.backends.cudnn.version())\n",
    "print('__Number CUDA Devices:', torch.cuda.device_count())"
   ]
  },
  {
   "cell_type": "markdown",
   "metadata": {},
   "source": [
    "pytorch can easily support GPU computation"
   ]
  },
  {
   "cell_type": "code",
   "execution_count": 2,
   "metadata": {},
   "outputs": [],
   "source": [
    "use_cuda = torch.cuda.is_available()\n",
    "if use_cuda:\n",
    "    print('Active CUDA Device: GPU', torch.cuda.current_device())\n",
    "    print ('Available devices ', torch.cuda.device_count())\n",
    "    print ('Current cuda device ', torch.cuda.current_device())"
   ]
  },
  {
   "cell_type": "code",
   "execution_count": 3,
   "metadata": {},
   "outputs": [
    {
     "name": "stdout",
     "output_type": "stream",
     "text": [
      "USE CUDA=False\n"
     ]
    }
   ],
   "source": [
    "print(\"USE CUDA=\" + str (use_cuda))\n",
    "FloatTensor = torch.cuda.FloatTensor if use_cuda else torch.FloatTensor\n",
    "LongTensor = torch.cuda.LongTensor if use_cuda else torch.LongTensor\n",
    "Tensor = FloatTensor"
   ]
  },
  {
   "cell_type": "markdown",
   "metadata": {},
   "source": [
    "Before we start we must set a seed to get same results"
   ]
  },
  {
   "cell_type": "code",
   "execution_count": 4,
   "metadata": {},
   "outputs": [],
   "source": [
    "import random \n",
    "import numpy as np\n",
    "\n",
    "manualSeed = None\n",
    "def fixSeed(seed):\n",
    "    random.seed(seed)\n",
    "    np.random.seed(seed)\n",
    "    torch.manual_seed(seed)\n",
    "    if use_cuda:\n",
    "        torch.cuda.manual_seed(seed)\n",
    "        torch.cuda.manual_seed_all(seed)\n",
    "\n",
    "\n",
    "if manualSeed is None:\n",
    "        manualSeed = 999\n",
    "fixSeed(manualSeed)"
   ]
  },
  {
   "cell_type": "markdown",
   "metadata": {},
   "source": [
    "Let's upload the data and visulize it"
   ]
  },
  {
   "cell_type": "code",
   "execution_count": 64,
   "metadata": {},
   "outputs": [],
   "source": [
    "from __future__ import print_function\n",
    "import numpy as np\n",
    "import matplotlib.pyplot as plt\n",
    "%matplotlib inline\n",
    "from sklearn.metrics import confusion_matrix, accuracy_score, log_loss\n",
    "import seaborn as sns\n",
    "\n",
    "from torchvision.datasets import FashionMNIST\n",
    "\n",
    "batch_size = 32"
   ]
  },
  {
   "cell_type": "markdown",
   "metadata": {},
   "source": [
    "Pytorch have built-in functions for diffrent datasets\n",
    "\n",
    "we will create a dataloader which will be responsible to fetch the data from the disk to the cpu/gpu\n"
   ]
  },
  {
   "cell_type": "code",
   "execution_count": 65,
   "metadata": {},
   "outputs": [],
   "source": [
    "import torchvision.transforms as transforms\n",
    "from torch.utils.data import DataLoader,random_split\n",
    "\n",
    "workers = 0\n",
    "transform = transforms.Compose(\n",
    "    [transforms.ToTensor(),])\n",
    "#      transforms.Normalize(0.5, 0.5)])\n",
    "\n",
    "training_data = FashionMNIST('./datasets/',download=True,train=True,transform=transform)\n",
    "train_set, val_set = random_split(training_data,[int(training_data.__len__()*0.8),int(training_data.__len__()*0.2)])\n",
    "train_loader = DataLoader(train_set, batch_size=batch_size,shuffle=True, num_workers=workers)\n",
    "val_loader = DataLoader(val_set, batch_size=batch_size,shuffle=True, num_workers=workers)\n",
    "\n",
    "test_set = FashionMNIST('./datasets/',download=True,train=False,transform=transform)\n",
    "test_loader = DataLoader(test_set, batch_size=batch_size,shuffle=True, num_workers=workers)"
   ]
  },
  {
   "cell_type": "code",
   "execution_count": 66,
   "metadata": {},
   "outputs": [
    {
     "name": "stdout",
     "output_type": "stream",
     "text": [
      "train size= 48000  validation size= 12000\n"
     ]
    }
   ],
   "source": [
    "print('train size=',train_set.__len__(),' validation size=', val_set.__len__())"
   ]
  },
  {
   "cell_type": "code",
   "execution_count": 67,
   "metadata": {},
   "outputs": [
    {
     "data": {
      "text/plain": [
       "<matplotlib.image.AxesImage at 0x132c24890>"
      ]
     },
     "execution_count": 67,
     "metadata": {},
     "output_type": "execute_result"
    },
    {
     "data": {
      "image/png": "[encoded data removed]",
      "text/plain": [
       "<Figure size 432x288 with 1 Axes>"
      ]
     },
     "metadata": {
      "needs_background": "light"
     },
     "output_type": "display_data"
    }
   ],
   "source": [
    "plt.imshow(iter(train_loader).next()[0].numpy()[0][0],cmap='binary')"
   ]
  },
  {
   "cell_type": "code",
   "execution_count": 68,
   "metadata": {},
   "outputs": [],
   "source": [
    "class_names = {k:v for k,v in enumerate('T-shirt/top Trouser Pullover Dress Coat Sandal Shirt Sneaker Bag Ankle_boot'.split(' '))}"
   ]
  },
  {
   "cell_type": "code",
   "execution_count": 69,
   "metadata": {},
   "outputs": [
    {
     "data": {
      "text/plain": [
       "{0: 'T-shirt/top',\n",
       " 1: 'Trouser',\n",
       " 2: 'Pullover',\n",
       " 3: 'Dress',\n",
       " 4: 'Coat',\n",
       " 5: 'Sandal',\n",
       " 6: 'Shirt',\n",
       " 7: 'Sneaker',\n",
       " 8: 'Bag',\n",
       " 9: 'Ankle_boot'}"
      ]
     },
     "execution_count": 69,
     "metadata": {},
     "output_type": "execute_result"
    }
   ],
   "source": [
    "class_names"
   ]
  },
  {
   "cell_type": "code",
   "execution_count": 70,
   "metadata": {},
   "outputs": [],
   "source": [
    "def plot_multiple_imgs(X,y,nrow=2,ncol=2,figsize=(13,7),preds=None,skip=0):\n",
    "    fig,ax = plt.subplots(nrows=nrow,ncols=ncol,figsize=figsize)\n",
    "    fig.subplots_adjust(hspace=0.1, wspace=0.1)\n",
    "    for i in range(nrow*ncol):\n",
    "        ax[i//ncol,i%ncol].imshow(X[skip+i],cmap='binary')\n",
    "        ax[i//ncol,i%ncol].set_xticks([])\n",
    "        ax[i//ncol,i%ncol].set_yticks([])\n",
    "        if preds is not None:\n",
    "            ax[i//ncol,i%ncol].text(0.55, -0.35, str(preds[skip+i]), transform=ax[i//ncol,i%ncol].transAxes,\n",
    "                                   color='green' if y[skip+i]==preds[skip+i] else 'red',weight='bold')\n",
    "            ax[i//ncol,i%ncol].text(0.05, -0.15, str(y[skip+i]), color='blue',transform=ax[i//ncol,i%ncol].transAxes,weight='bold')\n",
    "        else:\n",
    "            ax[i//ncol,i%ncol].text(0.05, -0.15, class_names[y[skip+i]], color='blue',transform=ax[i//ncol,i%ncol].transAxes,weight='bold')\n",
    "    plt.show()\n",
    "\n",
    "X_train = iter(train_loader).next()[0].numpy()[:,0,:,:]\n",
    "y_train = iter(train_loader).next()[1].numpy()"
   ]
  },
  {
   "cell_type": "code",
   "execution_count": 71,
   "metadata": {},
   "outputs": [
    {
     "data": {
      "text/plain": [
       "(32, 28, 28)"
      ]
     },
     "execution_count": 71,
     "metadata": {},
     "output_type": "execute_result"
    }
   ],
   "source": [
    "X_train.shape"
   ]
  },
  {
   "cell_type": "code",
   "execution_count": 72,
   "metadata": {},
   "outputs": [
    {
     "data": {
      "image/png": "[encoded data removed]",
      "text/plain": [
       "<Figure size 864x576 with 32 Axes>"
      ]
     },
     "metadata": {},
     "output_type": "display_data"
    }
   ],
   "source": [
    "plot_multiple_imgs(X_train,y_train,batch_size//8,8,(12,8))"
   ]
  },
  {
   "cell_type": "markdown",
   "metadata": {},
   "source": [
    "our initial network will be a fully connected network which means every neuron in a specific layer is connected to every neuron in the succiding layer"
   ]
  },
  {
   "cell_type": "code",
   "execution_count": 73,
   "metadata": {},
   "outputs": [
    {
     "name": "stdout",
     "output_type": "stream",
     "text": [
      "MLP(\n",
      "  (fc1): Linear(in_features=784, out_features=64, bias=True)\n",
      "  (fc2): Linear(in_features=64, out_features=16, bias=True)\n",
      "  (fc3): Linear(in_features=16, out_features=10, bias=True)\n",
      ")\n"
     ]
    }
   ],
   "source": [
    "import torch.nn as nn\n",
    "import torch.nn.functional as F\n",
    "\n",
    "# every network class has to include at least 2 methods:\n",
    "#     an init method - will define the computational graph components\n",
    "#     and a forward method which will define the graph structure\n",
    "\n",
    "class MLP(nn.Module):\n",
    "    def __init__(self):\n",
    "        super(MLP, self).__init__()\n",
    "        self.fc1 = nn.Linear(784,64)\n",
    "        self.fc2 = nn.Linear(64,16)\n",
    "#         self.fc3 = nn.Linear(128,20)\n",
    "        self.fc3 = nn.Linear(16,10)\n",
    "        \n",
    "    def forward(self,x):\n",
    "        x = x.view(batch_size,-1)\n",
    "        x = F.relu(self.fc1(x))\n",
    "        x = F.leaky_relu(self.fc2(x))\n",
    "#         x = F.relu(self.fc3(x))\n",
    "        x = F.softmax(self.fc3(x))\n",
    "        return x\n",
    "    \n",
    "m = MLP()\n",
    "\n",
    "print(m)"
   ]
  },
  {
   "cell_type": "code",
   "execution_count": 80,
   "metadata": {},
   "outputs": [],
   "source": [
    "import torch.optim as optim\n",
    "\n",
    "criterion = nn.CrossEntropyLoss()\n",
    "optimizer = optim.SGD(m.parameters(),lr = 0.05, momentum=0.9)"
   ]
  },
  {
   "cell_type": "code",
   "execution_count": 81,
   "metadata": {},
   "outputs": [],
   "source": [
    "if use_cuda:\n",
    "    m.cuda()\n",
    "    criterion.cuda()\n",
    "        \n",
    "def get_val_loss(model,val_loader,criterion):\n",
    "    val_preds = []\n",
    "    val_true = []\n",
    "    with torch.no_grad():\n",
    "        for (inp,labels) in val_loader:\n",
    "            if use_cuda:\n",
    "                inp = inp.cuda()\n",
    "                labels = labels.cuda()\n",
    "            val_preds.append(model(inp))\n",
    "            val_true.append(labels)\n",
    "        val_preds = torch.cat(val_preds)\n",
    "        val_true = torch.cat(val_true)\n",
    "    return criterion(val_preds, val_true).item()\n",
    "  "
   ]
  },
  {
   "cell_type": "code",
   "execution_count": 82,
   "metadata": {},
   "outputs": [
    {
     "name": "stderr",
     "output_type": "stream",
     "text": [
      "/Users/Adam/.pyenv/versions/jupyter/lib/python3.7/site-packages/ipykernel_launcher.py:21: UserWarning: Implicit dimension choice for softmax has been deprecated. Change the call to include dim=X as an argument.\n"
     ]
    },
    {
     "name": "stdout",
     "output_type": "stream",
     "text": [
      "epoch 0, iteration 319, loss=1.784466, validation_loss=1.762738\n",
      "epoch 0, iteration 639, loss=1.781068, validation_loss=1.754766\n",
      "epoch 0, iteration 959, loss=1.783609, validation_loss=1.761370\n",
      "epoch 0, iteration 1279, loss=1.761463, validation_loss=1.747353\n",
      "epoch 1, iteration 319, loss=1.752080, validation_loss=1.758920\n",
      "epoch 1, iteration 639, loss=1.748541, validation_loss=1.756433\n",
      "epoch 1, iteration 959, loss=1.757901, validation_loss=1.742990\n",
      "epoch 1, iteration 1279, loss=1.760131, validation_loss=1.756264\n",
      "epoch 2, iteration 319, loss=1.746660, validation_loss=1.764909\n",
      "epoch 2, iteration 639, loss=1.753249, validation_loss=1.745711\n",
      "epoch 2, iteration 959, loss=1.755041, validation_loss=1.753323\n",
      "epoch 2, iteration 1279, loss=1.750164, validation_loss=1.741343\n",
      "epoch 3, iteration 319, loss=1.746889, validation_loss=1.744256\n",
      "epoch 3, iteration 639, loss=1.747379, validation_loss=1.748206\n",
      "epoch 3, iteration 959, loss=1.746275, validation_loss=1.786312\n",
      "epoch 3, iteration 1279, loss=1.756622, validation_loss=1.741820\n"
     ]
    }
   ],
   "source": [
    "      \n",
    "for epoch in range(4):\n",
    "    running_loss = 0.0\n",
    "    for i,(inp,labels) in enumerate(train_loader, 0):\n",
    "        if use_cuda:\n",
    "            inp = inp.cuda()\n",
    "            labels = labels.cuda()\n",
    "        optimizer.zero_grad() # clear the computed gradients from previous passes\n",
    "        out = m(inp)\n",
    "        loss = criterion(out, labels)\n",
    "        loss.backward() # computes gradients for every parameter which has requires_grad=True\n",
    "        optimizer.step() # update the weights\n",
    "        running_loss += loss.item()\n",
    "        if i % (batch_size*10) == (batch_size*10-1):\n",
    "            print('epoch {}, iteration {}, loss={:3f}, validation_loss={:3f}'.format(epoch,i,running_loss/(batch_size*10),get_val_loss(m,val_loader,criterion)))\n",
    "            running_loss = 0.0"
   ]
  },
  {
   "cell_type": "code",
   "execution_count": 90,
   "metadata": {},
   "outputs": [],
   "source": [
    "class CONV(nn.Module):\n",
    "    def __init__(self):\n",
    "        super(CONV, self).__init__()\n",
    "        self.pool = nn.MaxPool2d(2, 2)\n",
    "        self.conv1 = nn.Conv2d(1,32,3)  #input dims are 1x28x28  output dims are 32x26x26\n",
    "        self.conv2 = nn.Conv2d(32,32,3)  #input dims are 32x26x26  output dims are 32x24x24\n",
    "        self.conv3 = nn.Conv2d(32,16,3)  #input dims are 32x12x12  output dims are 16x10x10\n",
    "        self.conv4 = nn.Conv2d(16,16,3)  #input dims are 16x10x10  output dims are 16x8x8\n",
    "        self.flat_dim = (4*4)*16\n",
    "        self.fc1 = nn.Linear(self.flat_dim,20) \n",
    "        self.fc2 = nn.Linear(20,10)\n",
    "        \n",
    "    def forward(self,x):\n",
    "        x = F.relu(self.conv1(x))\n",
    "        x = self.pool(F.relu(self.conv2(x)))\n",
    "        x = F.relu(self.conv3(x))\n",
    "        x = self.pool(F.relu(self.conv4(x)))\n",
    "        x = x.view(-1,self.flat_dim)\n",
    "        x = F.relu(self.fc1(x))\n",
    "        x = F.softmax(self.fc2(x))\n",
    "        return x"
   ]
  },
  {
   "cell_type": "code",
   "execution_count": 91,
   "metadata": {},
   "outputs": [
    {
     "name": "stdout",
     "output_type": "stream",
     "text": [
      "CONV(\n",
      "  (pool): MaxPool2d(kernel_size=2, stride=2, padding=0, dilation=1, ceil_mode=False)\n",
      "  (conv1): Conv2d(1, 32, kernel_size=(3, 3), stride=(1, 1))\n",
      "  (conv2): Conv2d(32, 32, kernel_size=(3, 3), stride=(1, 1))\n",
      "  (conv3): Conv2d(32, 16, kernel_size=(3, 3), stride=(1, 1))\n",
      "  (conv4): Conv2d(16, 16, kernel_size=(3, 3), stride=(1, 1))\n",
      "  (fc1): Linear(in_features=256, out_features=20, bias=True)\n",
      "  (fc2): Linear(in_features=20, out_features=10, bias=True)\n",
      ")\n"
     ]
    }
   ],
   "source": [
    "c = CONV()\n",
    "print(c)"
   ]
  },
  {
   "cell_type": "code",
   "execution_count": 92,
   "metadata": {},
   "outputs": [],
   "source": [
    "optimizer = optim.Adam(c.parameters(),lr = 0.001)"
   ]
  },
  {
   "cell_type": "code",
   "execution_count": 93,
   "metadata": {},
   "outputs": [
    {
     "name": "stderr",
     "output_type": "stream",
     "text": [
      "/Users/Adam/.pyenv/versions/jupyter/lib/python3.7/site-packages/ipykernel_launcher.py:20: UserWarning: Implicit dimension choice for softmax has been deprecated. Change the call to include dim=X as an argument.\n"
     ]
    },
    {
     "name": "stdout",
     "output_type": "stream",
     "text": [
      "epoch 0, iteration 319, loss=1.950569\n",
      "epoch 0, iteration 639, loss=1.790805\n",
      "epoch 0, iteration 959, loss=1.773438\n",
      "epoch 0, iteration 1279, loss=1.751599\n",
      "epoch 1, iteration 319, loss=1.731536\n",
      "epoch 1, iteration 639, loss=1.737114\n",
      "epoch 1, iteration 959, loss=1.731422\n",
      "epoch 1, iteration 1279, loss=1.721267\n",
      "epoch 2, iteration 319, loss=1.711441\n",
      "epoch 2, iteration 639, loss=1.713312\n",
      "epoch 2, iteration 959, loss=1.713189\n",
      "epoch 2, iteration 1279, loss=1.709194\n",
      "epoch 3, iteration 319, loss=1.699420\n",
      "epoch 3, iteration 639, loss=1.696543\n",
      "epoch 3, iteration 959, loss=1.697174\n",
      "epoch 3, iteration 1279, loss=1.693864\n"
     ]
    }
   ],
   "source": [
    "if use_cuda:\n",
    "    c.cuda()\n",
    "    criterion.cuda()\n",
    "        \n",
    "for epoch in range(4):\n",
    "    running_loss = 0.0\n",
    "    for i,(inp,labels) in enumerate(train_loader, 0):\n",
    "        if use_cuda:\n",
    "            inp = inp.cuda()\n",
    "            labels = labels.cuda()\n",
    "        optimizer.zero_grad()\n",
    "        out = c(inp)\n",
    "        loss = criterion(out, labels)\n",
    "        loss.backward()\n",
    "        optimizer.step()\n",
    "        \n",
    "        running_loss += loss.item()\n",
    "        if i % (batch_size*10) == (batch_size*10-1):\n",
    "            print('epoch {}, iteration {}, loss={:3f}'.format(epoch,i,running_loss/(batch_size*10)))\n",
    "            running_loss = 0.0"
   ]
  },
  {
   "cell_type": "code",
   "execution_count": null,
   "metadata": {},
   "outputs": [],
   "source": []
  }
 ],
 "metadata": {
  "kernelspec": {
   "display_name": "Python 3",
   "language": "python",
   "name": "python3"
  },
  "language_info": {
   "codemirror_mode": {
    "name": "ipython",
    "version": 3
   },
   "file_extension": ".py",
   "mimetype": "text/x-python",
   "name": "python",
   "nbconvert_exporter": "python",
   "pygments_lexer": "ipython3",
   "version": "3.7.5"
  }
 },
 "nbformat": 4,
 "nbformat_minor": 4
}
